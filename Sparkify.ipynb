{
 "cells": [
  {
   "cell_type": "markdown",
   "metadata": {},
   "source": [
    "# Sparkify Churn Prediction\n",
    "In this project, the problem statement is to predict the churning of users whom use streaming service of a fictional company called “Sparkify”. At Sparkify, there is a dataset totaling 12GB of event logs where a small subset of 128MB was taken to allow us work on exploring the dataset and building a model that can later be deployed on the cloud (such as AWS EMR). Identifying and analyzing churn is a common and important task for data scientist to be aware of. For a company like Sparkify to predict potentially churning users can allow them to take the effort to retain those users and therefore saving revenue which would otherwise be very difficult to generate."
   ]
  },
  {
   "cell_type": "code",
   "execution_count": 1,
   "metadata": {},
   "outputs": [],
   "source": [
    "# importing libraries\n",
    "from pyspark.sql import SparkSession\n",
    "from pyspark.sql.functions import isnan, when, count, col\n",
    "\n",
    "import pandas as pd\n",
    "from pyspark.ml.feature import VectorAssembler, Normalizer, StandardScaler\n",
    "from pyspark.ml import Pipeline\n",
    "\n",
    "from pyspark.ml.classification import LogisticRegression, RandomForestClassifier, GBTClassifier\n",
    "\n",
    "\n",
    "import seaborn as sns\n",
    "\n",
    "from pyspark.ml.classification import (NaiveBayes, LogisticRegression, DecisionTreeClassifier, \n",
    "                                       RandomForestClassifier, LinearSVC)\n",
    "from pyspark.ml.evaluation import MulticlassClassificationEvaluator, BinaryClassificationEvaluator\n",
    "from pyspark.ml.tuning import CrossValidator, ParamGridBuilder\n",
    "\n",
    "from time import time"
   ]
  },
  {
   "cell_type": "code",
   "execution_count": 2,
   "metadata": {},
   "outputs": [],
   "source": [
    "# creating a Spark session\n",
    "spark = SparkSession \\\n",
    "    .builder \\\n",
    "    .appName(\"Sparkify Churn\") \\\n",
    "    .getOrCreate()"
   ]
  },
  {
   "cell_type": "markdown",
   "metadata": {},
   "source": [
    "# Loading and Cleaning Dataset\n",
    "In this section, I will load and clean the data set `mini_sparkify_event_data.json`, checking for invalid or missing data - for example, records without userids or sessionids. "
   ]
  },
  {
   "cell_type": "code",
   "execution_count": 3,
   "metadata": {},
   "outputs": [],
   "source": [
    "user_log = spark.read.json(\"./mini_sparkify_event_data.json\")"
   ]
  },
  {
   "cell_type": "code",
   "execution_count": 4,
   "metadata": {},
   "outputs": [
    {
     "name": "stdout",
     "output_type": "stream",
     "text": [
      "root\n",
      " |-- artist: string (nullable = true)\n",
      " |-- auth: string (nullable = true)\n",
      " |-- firstName: string (nullable = true)\n",
      " |-- gender: string (nullable = true)\n",
      " |-- itemInSession: long (nullable = true)\n",
      " |-- lastName: string (nullable = true)\n",
      " |-- length: double (nullable = true)\n",
      " |-- level: string (nullable = true)\n",
      " |-- location: string (nullable = true)\n",
      " |-- method: string (nullable = true)\n",
      " |-- page: string (nullable = true)\n",
      " |-- registration: long (nullable = true)\n",
      " |-- sessionId: long (nullable = true)\n",
      " |-- song: string (nullable = true)\n",
      " |-- status: long (nullable = true)\n",
      " |-- ts: long (nullable = true)\n",
      " |-- userAgent: string (nullable = true)\n",
      " |-- userId: string (nullable = true)\n",
      "\n"
     ]
    }
   ],
   "source": [
    "user_log.printSchema()"
   ]
  },
  {
   "cell_type": "code",
   "execution_count": 5,
   "metadata": {},
   "outputs": [
    {
     "data": {
      "text/html": [
       "<div>\n",
       "<style scoped>\n",
       "    .dataframe tbody tr th:only-of-type {\n",
       "        vertical-align: middle;\n",
       "    }\n",
       "\n",
       "    .dataframe tbody tr th {\n",
       "        vertical-align: top;\n",
       "    }\n",
       "\n",
       "    .dataframe thead th {\n",
       "        text-align: right;\n",
       "    }\n",
       "</style>\n",
       "<table border=\"1\" class=\"dataframe\">\n",
       "  <thead>\n",
       "    <tr style=\"text-align: right;\">\n",
       "      <th></th>\n",
       "      <th>artist</th>\n",
       "      <th>auth</th>\n",
       "      <th>firstName</th>\n",
       "      <th>gender</th>\n",
       "      <th>itemInSession</th>\n",
       "      <th>lastName</th>\n",
       "      <th>length</th>\n",
       "      <th>level</th>\n",
       "      <th>location</th>\n",
       "      <th>method</th>\n",
       "      <th>page</th>\n",
       "      <th>registration</th>\n",
       "      <th>sessionId</th>\n",
       "      <th>song</th>\n",
       "      <th>status</th>\n",
       "      <th>ts</th>\n",
       "      <th>userAgent</th>\n",
       "      <th>userId</th>\n",
       "    </tr>\n",
       "  </thead>\n",
       "  <tbody>\n",
       "    <tr>\n",
       "      <th>0</th>\n",
       "      <td>58392</td>\n",
       "      <td>0</td>\n",
       "      <td>8346</td>\n",
       "      <td>8346</td>\n",
       "      <td>0</td>\n",
       "      <td>8346</td>\n",
       "      <td>58392</td>\n",
       "      <td>0</td>\n",
       "      <td>8346</td>\n",
       "      <td>0</td>\n",
       "      <td>0</td>\n",
       "      <td>8346</td>\n",
       "      <td>0</td>\n",
       "      <td>58392</td>\n",
       "      <td>0</td>\n",
       "      <td>0</td>\n",
       "      <td>8346</td>\n",
       "      <td>0</td>\n",
       "    </tr>\n",
       "  </tbody>\n",
       "</table>\n",
       "</div>"
      ],
      "text/plain": [
       "   artist  auth  firstName  gender  itemInSession  lastName  length  level  \\\n",
       "0   58392     0       8346    8346              0      8346   58392      0   \n",
       "\n",
       "   location  method  page  registration  sessionId   song  status  ts  \\\n",
       "0      8346       0     0          8346          0  58392       0   0   \n",
       "\n",
       "   userAgent  userId  \n",
       "0       8346       0  "
      ]
     },
     "execution_count": 5,
     "metadata": {},
     "output_type": "execute_result"
    }
   ],
   "source": [
    "user_log.select([count(when(isnan(c) | col(c).isNull(), c)).alias(c) for c in user_log.columns]).toPandas()\n"
   ]
  },
  {
   "cell_type": "code",
   "execution_count": 6,
   "metadata": {},
   "outputs": [],
   "source": [
    "#removing rows where userId == \"\" because these are guest website visitors and not active users that can churn, so we exclude them from this analysis\n",
    "user_log = user_log.filter(user_log.userId != \"\")\n"
   ]
  },
  {
   "cell_type": "markdown",
   "metadata": {},
   "source": [
    "# Exploratory Data Analysis\n",
    "performing EDA by loading a small subset of the data and doing basic manipulations within Spark. \n",
    "\n"
   ]
  },
  {
   "cell_type": "code",
   "execution_count": 7,
   "metadata": {},
   "outputs": [
    {
     "data": {
      "text/plain": [
       "Logged In    278102\n",
       "Cancelled        52\n",
       "Name: auth, dtype: int64"
      ]
     },
     "execution_count": 7,
     "metadata": {},
     "output_type": "execute_result"
    }
   ],
   "source": [
    "user_log.select('auth').toPandas().auth.value_counts()"
   ]
  },
  {
   "cell_type": "markdown",
   "metadata": {},
   "source": [
    "it seems that cancelled rows means that these are churned users"
   ]
  },
  {
   "cell_type": "code",
   "execution_count": 8,
   "metadata": {},
   "outputs": [
    {
     "data": {
      "text/plain": [
       "NextSong                     228108\n",
       "Thumbs Up                     12551\n",
       "Home                          10082\n",
       "Add to Playlist                6526\n",
       "Add Friend                     4277\n",
       "Roll Advert                    3933\n",
       "Logout                         3226\n",
       "Thumbs Down                    2546\n",
       "Downgrade                      2055\n",
       "Settings                       1514\n",
       "Help                           1454\n",
       "Upgrade                         499\n",
       "About                           495\n",
       "Save Settings                   310\n",
       "Error                           252\n",
       "Submit Upgrade                  159\n",
       "Submit Downgrade                 63\n",
       "Cancellation Confirmation        52\n",
       "Cancel                           52\n",
       "Name: page, dtype: int64"
      ]
     },
     "execution_count": 8,
     "metadata": {},
     "output_type": "execute_result"
    }
   ],
   "source": [
    "user_log.select('page').toPandas().page.value_counts()"
   ]
  },
  {
   "cell_type": "code",
   "execution_count": 9,
   "metadata": {},
   "outputs": [],
   "source": [
    "#compiling ids of cancelled users\n",
    "cancelled_user_ids = user_log.where(col('auth')=='Cancelled').toPandas().userId"
   ]
  },
  {
   "cell_type": "code",
   "execution_count": 10,
   "metadata": {},
   "outputs": [
    {
     "data": {
      "text/plain": [
       "0         18\n",
       "1         32\n",
       "2        125\n",
       "3        105\n",
       "4         17\n",
       "5        143\n",
       "6        101\n",
       "7        129\n",
       "8        121\n",
       "9         51\n",
       "10        87\n",
       "11       122\n",
       "12        12\n",
       "13        58\n",
       "14        73\n",
       "15         3\n",
       "16       106\n",
       "17       103\n",
       "18        28\n",
       "19        54\n",
       "20        29\n",
       "21        70\n",
       "22        53\n",
       "23    100011\n",
       "24    100001\n",
       "25    100024\n",
       "26    100006\n",
       "27    100019\n",
       "28    100003\n",
       "29    100023\n",
       "30    100005\n",
       "31    100017\n",
       "32    100025\n",
       "33    100009\n",
       "34    100012\n",
       "35    100013\n",
       "36    100022\n",
       "37    100014\n",
       "38    100015\n",
       "39    100021\n",
       "40    100007\n",
       "41    200001\n",
       "42    200024\n",
       "43    200011\n",
       "44    200021\n",
       "45    200018\n",
       "46    200015\n",
       "47    200017\n",
       "48    200016\n",
       "49    200020\n",
       "50    300007\n",
       "51    300001\n",
       "Name: userId, dtype: object"
      ]
     },
     "execution_count": 10,
     "metadata": {},
     "output_type": "execute_result"
    }
   ],
   "source": [
    "cancelled_user_ids"
   ]
  },
  {
   "cell_type": "markdown",
   "metadata": {},
   "source": [
    "### Defining Churn\n",
    "\n",
    "Here we define churn as the user confirming cancellation of service from the occurance of `Cancellation Confirmation` page of the user id. \n"
   ]
  },
  {
   "cell_type": "code",
   "execution_count": 11,
   "metadata": {},
   "outputs": [],
   "source": [
    "#adding a new column called 'churn', apply 1 to it if the user has churned and 0 to it if he hasn't, this way we can follow their activities through the events\n",
    "user_log = user_log.withColumn(\n",
    "    'Churn',\n",
    "    when(col('userId').isin(list(cancelled_user_ids)), 1) \\\n",
    "    .otherwise(0)\n",
    ")"
   ]
  },
  {
   "cell_type": "markdown",
   "metadata": {},
   "source": [
    "### Explore Data\n",
    "After defining churn, I am performing some exploratory data analysis to observe the behavior for users who stayed vs users who churned. I will explore aggregates on these two groups of users, observing how much of a specific action they experienced."
   ]
  },
  {
   "cell_type": "code",
   "execution_count": 12,
   "metadata": {},
   "outputs": [
    {
     "data": {
      "text/plain": [
       "0.16129194618808287"
      ]
     },
     "execution_count": 12,
     "metadata": {},
     "output_type": "execute_result"
    }
   ],
   "source": [
    "#checking percentage of total event activities by churned users compared to all events by all users\n",
    "user_log.where(col('Churn') == 1).count() / user_log.count()"
   ]
  },
  {
   "cell_type": "code",
   "execution_count": 13,
   "metadata": {},
   "outputs": [
    {
     "data": {
      "text/plain": [
       "0.2311111111111111"
      ]
     },
     "execution_count": 13,
     "metadata": {},
     "output_type": "execute_result"
    }
   ],
   "source": [
    "#number of churned users compared to the total number of users\n",
    "len(cancelled_user_ids) / user_log.dropDuplicates(['userId']).count()"
   ]
  },
  {
   "cell_type": "code",
   "execution_count": 14,
   "metadata": {
    "scrolled": true
   },
   "outputs": [
    {
     "data": {
      "text/plain": [
       "<matplotlib.axes._subplots.AxesSubplot at 0x7f4bc0b55358>"
      ]
     },
     "execution_count": 14,
     "metadata": {},
     "output_type": "execute_result"
    },
    {
     "data": {
      "image/png": "[encoded data removed]",
      "text/plain": [
       "<matplotlib.figure.Figure at 0x7f4bc20de8d0>"
      ]
     },
     "metadata": {
      "needs_background": "light"
     },
     "output_type": "display_data"
    }
   ],
   "source": [
    "#gender and churn\n",
    "gender_churn_df = user_log.dropDuplicates(['userId']).groupby(['churn','gender']).count().toPandas()\n",
    "sns.barplot(x=\"churn\", y=\"count\", data=gender_churn_df, hue=\"gender\")\n"
   ]
  },
  {
   "cell_type": "markdown",
   "metadata": {},
   "source": [
    "**from percentage of churning, seems like males are more likely to churn**"
   ]
  },
  {
   "cell_type": "code",
   "execution_count": 15,
   "metadata": {
    "scrolled": true
   },
   "outputs": [
    {
     "data": {
      "text/plain": [
       "<matplotlib.axes._subplots.AxesSubplot at 0x7f4bba49b358>"
      ]
     },
     "execution_count": 15,
     "metadata": {},
     "output_type": "execute_result"
    },
    {
     "data": {
      "image/png": "[encoded data removed]",
      "text/plain": [
       "<matplotlib.figure.Figure at 0x7f4bba492dd8>"
      ]
     },
     "metadata": {
      "needs_background": "light"
     },
     "output_type": "display_data"
    }
   ],
   "source": [
    "level_churn_df = user_log.orderBy(col(\"ts\").desc()).dropDuplicates(['userId']).groupby(['churn','level']).count().toPandas()\n",
    "sns.barplot(x=\"churn\", y=\"count\", data=level_churn_df, hue=\"level\")\n"
   ]
  },
  {
   "cell_type": "code",
   "execution_count": 16,
   "metadata": {},
   "outputs": [
    {
     "data": {
      "text/html": [
       "<div>\n",
       "<style scoped>\n",
       "    .dataframe tbody tr th:only-of-type {\n",
       "        vertical-align: middle;\n",
       "    }\n",
       "\n",
       "    .dataframe tbody tr th {\n",
       "        vertical-align: top;\n",
       "    }\n",
       "\n",
       "    .dataframe thead th {\n",
       "        text-align: right;\n",
       "    }\n",
       "</style>\n",
       "<table border=\"1\" class=\"dataframe\">\n",
       "  <thead>\n",
       "    <tr style=\"text-align: right;\">\n",
       "      <th></th>\n",
       "      <th>churn</th>\n",
       "      <th>level</th>\n",
       "      <th>count</th>\n",
       "    </tr>\n",
       "  </thead>\n",
       "  <tbody>\n",
       "    <tr>\n",
       "      <th>0</th>\n",
       "      <td>0</td>\n",
       "      <td>free</td>\n",
       "      <td>59</td>\n",
       "    </tr>\n",
       "    <tr>\n",
       "      <th>1</th>\n",
       "      <td>0</td>\n",
       "      <td>paid</td>\n",
       "      <td>114</td>\n",
       "    </tr>\n",
       "    <tr>\n",
       "      <th>2</th>\n",
       "      <td>1</td>\n",
       "      <td>paid</td>\n",
       "      <td>31</td>\n",
       "    </tr>\n",
       "    <tr>\n",
       "      <th>3</th>\n",
       "      <td>1</td>\n",
       "      <td>free</td>\n",
       "      <td>21</td>\n",
       "    </tr>\n",
       "  </tbody>\n",
       "</table>\n",
       "</div>"
      ],
      "text/plain": [
       "   churn level  count\n",
       "0      0  free     59\n",
       "1      0  paid    114\n",
       "2      1  paid     31\n",
       "3      1  free     21"
      ]
     },
     "execution_count": 16,
     "metadata": {},
     "output_type": "execute_result"
    }
   ],
   "source": [
    "#lets check the percentage\n",
    "level_churn_df "
   ]
  },
  {
   "cell_type": "markdown",
   "metadata": {},
   "source": [
    "**slightly higher percentage of free users churning...**"
   ]
  },
  {
   "cell_type": "code",
   "execution_count": 17,
   "metadata": {},
   "outputs": [
    {
     "data": {
      "text/html": [
       "<div>\n",
       "<style scoped>\n",
       "    .dataframe tbody tr th:only-of-type {\n",
       "        vertical-align: middle;\n",
       "    }\n",
       "\n",
       "    .dataframe tbody tr th {\n",
       "        vertical-align: top;\n",
       "    }\n",
       "\n",
       "    .dataframe thead th {\n",
       "        text-align: right;\n",
       "    }\n",
       "</style>\n",
       "<table border=\"1\" class=\"dataframe\">\n",
       "  <thead>\n",
       "    <tr style=\"text-align: right;\">\n",
       "      <th></th>\n",
       "      <th>userId</th>\n",
       "      <th>count</th>\n",
       "      <th>Churn</th>\n",
       "    </tr>\n",
       "  </thead>\n",
       "  <tbody>\n",
       "    <tr>\n",
       "      <th>0</th>\n",
       "      <td>200002</td>\n",
       "      <td>6</td>\n",
       "      <td>0</td>\n",
       "    </tr>\n",
       "    <tr>\n",
       "      <th>1</th>\n",
       "      <td>100010</td>\n",
       "      <td>7</td>\n",
       "      <td>0</td>\n",
       "    </tr>\n",
       "    <tr>\n",
       "      <th>2</th>\n",
       "      <td>125</td>\n",
       "      <td>1</td>\n",
       "      <td>1</td>\n",
       "    </tr>\n",
       "    <tr>\n",
       "      <th>3</th>\n",
       "      <td>124</td>\n",
       "      <td>29</td>\n",
       "      <td>0</td>\n",
       "    </tr>\n",
       "    <tr>\n",
       "      <th>4</th>\n",
       "      <td>51</td>\n",
       "      <td>10</td>\n",
       "      <td>1</td>\n",
       "    </tr>\n",
       "  </tbody>\n",
       "</table>\n",
       "</div>"
      ],
      "text/plain": [
       "   userId  count  Churn\n",
       "0  200002      6      0\n",
       "1  100010      7      0\n",
       "2     125      1      1\n",
       "3     124     29      0\n",
       "4      51     10      1"
      ]
     },
     "execution_count": 17,
     "metadata": {},
     "output_type": "execute_result"
    }
   ],
   "source": [
    "#count of sessions and churn\n",
    "count_sessions = user_log.select(\"userId\", \"churn\", \"sessionId\").dropDuplicates().groupby(\"userId\").count().withColumn(\n",
    "        'Churn',\n",
    "        when(col('userId').isin(list(cancelled_user_ids)), 1) \\\n",
    "        .otherwise(0)\n",
    "        ).toPandas()\n",
    "\n",
    "count_sessions.head()"
   ]
  },
  {
   "cell_type": "code",
   "execution_count": 18,
   "metadata": {},
   "outputs": [
    {
     "data": {
      "text/plain": [
       "<matplotlib.axes._subplots.AxesSubplot at 0x7f4bc0b5ada0>"
      ]
     },
     "execution_count": 18,
     "metadata": {},
     "output_type": "execute_result"
    },
    {
     "data": {
      "image/png": "[encoded data removed]",
      "text/plain": [
       "<matplotlib.figure.Figure at 0x7f4bba4b9128>"
      ]
     },
     "metadata": {
      "needs_background": "light"
     },
     "output_type": "display_data"
    }
   ],
   "source": [
    "sns.violinplot(x=\"Churn\", y=\"count\", data=count_sessions)"
   ]
  },
  {
   "cell_type": "markdown",
   "metadata": {},
   "source": [
    "interesting, can we say that anyone that has more session counts than 50 will not churn?"
   ]
  },
  {
   "cell_type": "code",
   "execution_count": 19,
   "metadata": {},
   "outputs": [],
   "source": [
    "#last activities and churn\n",
    "\n",
    "last_activity_activity_df = user_log.orderBy(col(\"ts\").desc()).where(col('page')=='NextSong').dropDuplicates(['userId'])\n"
   ]
  },
  {
   "cell_type": "code",
   "execution_count": 20,
   "metadata": {},
   "outputs": [
    {
     "name": "stdout",
     "output_type": "stream",
     "text": [
      "+-----------+---------+---------+------+-------------+---------+---------+-----+--------------------+------+--------+-------------+---------+---------------+------+-------------+--------------------+------+-----+\n",
      "|     artist|     auth|firstName|gender|itemInSession| lastName|   length|level|            location|method|    page| registration|sessionId|           song|status|           ts|           userAgent|userId|Churn|\n",
      "+-----------+---------+---------+------+-------------+---------+---------+-----+--------------------+------+--------+-------------+---------+---------------+------+-------------+--------------------+------+-----+\n",
      "| Lily Allen|Logged In| Darianna|     F|           33|Carpenter|185.25995| free|Bridgeport-Stamfo...|   PUT|NextSong|1538016340000|      187|             22|   200|1542823951000|\"Mozilla/5.0 (iPh...|100010|    0|\n",
      "|Josh Turner|Logged In|  Dominic|     M|          142|   Torres|149.57669| paid|Chicago-Napervill...|   PUT|NextSong|1536269906000|      205|  One Woman Man|   200|1542324353000|\"Mozilla/5.0 (iPh...|200002|    0|\n",
      "|     Bonobo|Logged In|    Mason|     M|            7|     Hart|323.81342| free|  Corpus Christi, TX|   PUT|NextSong|1533157139000|      174|           Kota|   200|1539318906000|\"Mozilla/5.0 (Mac...|   125|    1|\n",
      "|  Pearl Jam|Logged In|   Nicole|     F|          125|     Beck| 67.44771| paid|Vineland-Bridgeto...|   PUT|NextSong|1532224335000|     2372|   Encore Break|   200|1543520717000|\"Mozilla/5.0 (Mac...|   124|    0|\n",
      "|        Zox|Logged In|    Ethan|     M|          173|  Johnson|212.34893| paid|Lexington-Fayette...|   PUT|NextSong|1538080987000|      934|Can't Look Down|   200|1539761726000|\"Mozilla/5.0 (Win...|    51|    1|\n",
      "+-----------+---------+---------+------+-------------+---------+---------+-----+--------------------+------+--------+-------------+---------+---------------+------+-------------+--------------------+------+-----+\n",
      "only showing top 5 rows\n",
      "\n"
     ]
    }
   ],
   "source": [
    "last_activity_activity_df.show(5)"
   ]
  },
  {
   "cell_type": "code",
   "execution_count": 21,
   "metadata": {
    "scrolled": false
   },
   "outputs": [
    {
     "data": {
      "text/plain": [
       "<matplotlib.axes._subplots.AxesSubplot at 0x7f4bba0dd9e8>"
      ]
     },
     "execution_count": 21,
     "metadata": {},
     "output_type": "execute_result"
    },
    {
     "data": {
      "image/png": "[encoded data removed]",
      "text/plain": [
       "<matplotlib.figure.Figure at 0x7f4bba439668>"
      ]
     },
     "metadata": {
      "needs_background": "light"
     },
     "output_type": "display_data"
    }
   ],
   "source": [
    "sns.distplot(last_activity_activity_df.where(col('Churn') == 1).select('ts').toPandas(), bins=100)"
   ]
  },
  {
   "cell_type": "code",
   "execution_count": 22,
   "metadata": {
    "scrolled": true
   },
   "outputs": [
    {
     "data": {
      "text/plain": [
       "<matplotlib.axes._subplots.AxesSubplot at 0x7f4bba0f54a8>"
      ]
     },
     "execution_count": 22,
     "metadata": {},
     "output_type": "execute_result"
    },
    {
     "data": {
      "image/png": "[encoded data removed]",
      "text/plain": [
       "<matplotlib.figure.Figure at 0x7f4bbb4e3908>"
      ]
     },
     "metadata": {
      "needs_background": "light"
     },
     "output_type": "display_data"
    }
   ],
   "source": [
    "sns.distplot(last_activity_activity_df.where(col('Churn') == 0).select('ts').toPandas(), bins=100)"
   ]
  },
  {
   "cell_type": "markdown",
   "metadata": {},
   "source": [
    "non churning users tend to have a recent latest activity, we'll include it in our feature engineering to feed into the model"
   ]
  },
  {
   "cell_type": "code",
   "execution_count": 23,
   "metadata": {},
   "outputs": [
    {
     "name": "stdout",
     "output_type": "stream",
     "text": [
      "+------+-----+------------------+----------+\n",
      "|userId|Churn|       sum(length)|sum(Churn)|\n",
      "+------+-----+------------------+----------+\n",
      "|    19|    0|54480.933869999986|         0|\n",
      "|100005|    1| 37037.12201000001|       216|\n",
      "|200007|    0|15739.869310000002|         0|\n",
      "|300007|    1| 28028.71048000002|       143|\n",
      "|    50|    0|122751.27560999991|         0|\n",
      "+------+-----+------------------+----------+\n",
      "only showing top 5 rows\n",
      "\n"
     ]
    }
   ],
   "source": [
    "# total time listened and churn\n",
    "\n",
    "total_length = user_log.select(\"userId\", \"length\",\"Churn\").groupby(\"userId\",\"Churn\").sum()\n",
    "\n",
    "total_length.show(5)"
   ]
  },
  {
   "cell_type": "code",
   "execution_count": 24,
   "metadata": {
    "scrolled": true
   },
   "outputs": [
    {
     "data": {
      "text/plain": [
       "<matplotlib.axes._subplots.AxesSubplot at 0x7f4bc13642b0>"
      ]
     },
     "execution_count": 24,
     "metadata": {},
     "output_type": "execute_result"
    },
    {
     "data": {
      "image/png": "[encoded data removed]",
      "text/plain": [
       "<matplotlib.figure.Figure at 0x7f4bc1e44e10>"
      ]
     },
     "metadata": {
      "needs_background": "light"
     },
     "output_type": "display_data"
    }
   ],
   "source": [
    "sns.boxplot(data = total_length.toPandas(), x=\"Churn\", y=\"sum(length)\")"
   ]
  },
  {
   "cell_type": "markdown",
   "metadata": {},
   "source": [
    "ok it seems clear that on average, churned users have a less total listening time that not churned users"
   ]
  },
  {
   "cell_type": "code",
   "execution_count": 25,
   "metadata": {
    "scrolled": true
   },
   "outputs": [
    {
     "name": "stdout",
     "output_type": "stream",
     "text": [
      "+------+-----+-----+\n",
      "|userId|Churn|count|\n",
      "+------+-----+-----+\n",
      "|    19|    0|    5|\n",
      "|100005|    1|    7|\n",
      "|200007|    0|    2|\n",
      "|300007|    1|   11|\n",
      "|    50|    0|   27|\n",
      "+------+-----+-----+\n",
      "only showing top 5 rows\n",
      "\n"
     ]
    }
   ],
   "source": [
    "# number of thumbs up and churn\n",
    "\n",
    "thumbs_up =  user_log.where(col('page')=='Thumbs Up').groupby('userId','Churn').count()\n",
    "\n",
    "thumbs_up.show(5)"
   ]
  },
  {
   "cell_type": "code",
   "execution_count": 26,
   "metadata": {
    "scrolled": false
   },
   "outputs": [
    {
     "data": {
      "text/plain": [
       "<matplotlib.axes._subplots.AxesSubplot at 0x7f4bbb3cfd68>"
      ]
     },
     "execution_count": 26,
     "metadata": {},
     "output_type": "execute_result"
    },
    {
     "data": {
      "image/png": "[encoded data removed]",
      "text/plain": [
       "<matplotlib.figure.Figure at 0x7f4bc13454a8>"
      ]
     },
     "metadata": {
      "needs_background": "light"
     },
     "output_type": "display_data"
    }
   ],
   "source": [
    "sns.violinplot(data = thumbs_up.toPandas(), x=\"Churn\", y=\"count\")"
   ]
  },
  {
   "cell_type": "markdown",
   "metadata": {},
   "source": [
    "it is clear that non churning users have more thumbsup on average, let's see if churning users tend to have more thumbs down on average"
   ]
  },
  {
   "cell_type": "code",
   "execution_count": 27,
   "metadata": {},
   "outputs": [
    {
     "name": "stdout",
     "output_type": "stream",
     "text": [
      "+------+-----+-----+\n",
      "|userId|Churn|count|\n",
      "+------+-----+-----+\n",
      "|    19|    0|    2|\n",
      "|100005|    1|    3|\n",
      "|300007|    1|    1|\n",
      "|    50|    0|    3|\n",
      "|200002|    0|    6|\n",
      "+------+-----+-----+\n",
      "only showing top 5 rows\n",
      "\n"
     ]
    }
   ],
   "source": [
    "# number of thumbs down and churn\n",
    "\n",
    "thumbs_down =  user_log.where(col('page')=='Thumbs Down').groupby('userId','Churn').count()\n",
    "\n",
    "thumbs_down.show(5)"
   ]
  },
  {
   "cell_type": "code",
   "execution_count": 28,
   "metadata": {
    "scrolled": true
   },
   "outputs": [
    {
     "data": {
      "text/plain": [
       "<matplotlib.axes._subplots.AxesSubplot at 0x7f4bc22854e0>"
      ]
     },
     "execution_count": 28,
     "metadata": {},
     "output_type": "execute_result"
    },
    {
     "data": {
      "image/png": "[encoded data removed]",
      "text/plain": [
       "<matplotlib.figure.Figure at 0x7f4bc22b9ba8>"
      ]
     },
     "metadata": {
      "needs_background": "light"
     },
     "output_type": "display_data"
    }
   ],
   "source": [
    "sns.violinplot(data = thumbs_down.toPandas(), x=\"Churn\", y=\"count\")"
   ]
  },
  {
   "cell_type": "markdown",
   "metadata": {},
   "source": [
    "Wow, what a chart!!! it seems that the distribution between churning and non churning users with Thumbs Down is similar except for the anomalies of high thumbs down counts of non churning users. I think those are just over hitting thumbs ups and downs. Let's see if the same users have high numbers of thumbs ups and downs."
   ]
  },
  {
   "cell_type": "code",
   "execution_count": 29,
   "metadata": {},
   "outputs": [],
   "source": [
    "#for fun, checking if same users tend to hit high numbers of thumbs ups and downs. \n"
   ]
  },
  {
   "cell_type": "code",
   "execution_count": 30,
   "metadata": {},
   "outputs": [
    {
     "data": {
      "text/html": [
       "<div>\n",
       "<style scoped>\n",
       "    .dataframe tbody tr th:only-of-type {\n",
       "        vertical-align: middle;\n",
       "    }\n",
       "\n",
       "    .dataframe tbody tr th {\n",
       "        vertical-align: top;\n",
       "    }\n",
       "\n",
       "    .dataframe thead th {\n",
       "        text-align: right;\n",
       "    }\n",
       "</style>\n",
       "<table border=\"1\" class=\"dataframe\">\n",
       "  <thead>\n",
       "    <tr style=\"text-align: right;\">\n",
       "      <th></th>\n",
       "      <th>userId</th>\n",
       "      <th>Churn</th>\n",
       "      <th>count</th>\n",
       "    </tr>\n",
       "  </thead>\n",
       "  <tbody>\n",
       "    <tr>\n",
       "      <th>0</th>\n",
       "      <td>300011</td>\n",
       "      <td>0</td>\n",
       "      <td>437</td>\n",
       "    </tr>\n",
       "    <tr>\n",
       "      <th>1</th>\n",
       "      <td>300017</td>\n",
       "      <td>0</td>\n",
       "      <td>303</td>\n",
       "    </tr>\n",
       "    <tr>\n",
       "      <th>2</th>\n",
       "      <td>300021</td>\n",
       "      <td>0</td>\n",
       "      <td>336</td>\n",
       "    </tr>\n",
       "    <tr>\n",
       "      <th>3</th>\n",
       "      <td>39</td>\n",
       "      <td>0</td>\n",
       "      <td>388</td>\n",
       "    </tr>\n",
       "    <tr>\n",
       "      <th>4</th>\n",
       "      <td>140</td>\n",
       "      <td>0</td>\n",
       "      <td>277</td>\n",
       "    </tr>\n",
       "    <tr>\n",
       "      <th>5</th>\n",
       "      <td>92</td>\n",
       "      <td>0</td>\n",
       "      <td>292</td>\n",
       "    </tr>\n",
       "    <tr>\n",
       "      <th>6</th>\n",
       "      <td>300015</td>\n",
       "      <td>0</td>\n",
       "      <td>193</td>\n",
       "    </tr>\n",
       "    <tr>\n",
       "      <th>7</th>\n",
       "      <td>85</td>\n",
       "      <td>0</td>\n",
       "      <td>192</td>\n",
       "    </tr>\n",
       "  </tbody>\n",
       "</table>\n",
       "</div>"
      ],
      "text/plain": [
       "   userId  Churn  count\n",
       "0  300011      0    437\n",
       "1  300017      0    303\n",
       "2  300021      0    336\n",
       "3      39      0    388\n",
       "4     140      0    277\n",
       "5      92      0    292\n",
       "6  300015      0    193\n",
       "7      85      0    192"
      ]
     },
     "execution_count": 30,
     "metadata": {},
     "output_type": "execute_result"
    }
   ],
   "source": [
    "thumbs_up.where(col('count') > 190).toPandas()"
   ]
  },
  {
   "cell_type": "code",
   "execution_count": 31,
   "metadata": {},
   "outputs": [
    {
     "data": {
      "text/html": [
       "<div>\n",
       "<style scoped>\n",
       "    .dataframe tbody tr th:only-of-type {\n",
       "        vertical-align: middle;\n",
       "    }\n",
       "\n",
       "    .dataframe tbody tr th {\n",
       "        vertical-align: top;\n",
       "    }\n",
       "\n",
       "    .dataframe thead th {\n",
       "        text-align: right;\n",
       "    }\n",
       "</style>\n",
       "<table border=\"1\" class=\"dataframe\">\n",
       "  <thead>\n",
       "    <tr style=\"text-align: right;\">\n",
       "      <th></th>\n",
       "      <th>userId</th>\n",
       "      <th>Churn</th>\n",
       "      <th>count</th>\n",
       "    </tr>\n",
       "  </thead>\n",
       "  <tbody>\n",
       "    <tr>\n",
       "      <th>0</th>\n",
       "      <td>200008</td>\n",
       "      <td>0</td>\n",
       "      <td>52</td>\n",
       "    </tr>\n",
       "    <tr>\n",
       "      <th>1</th>\n",
       "      <td>200023</td>\n",
       "      <td>0</td>\n",
       "      <td>73</td>\n",
       "    </tr>\n",
       "    <tr>\n",
       "      <th>2</th>\n",
       "      <td>300011</td>\n",
       "      <td>0</td>\n",
       "      <td>41</td>\n",
       "    </tr>\n",
       "    <tr>\n",
       "      <th>3</th>\n",
       "      <td>39</td>\n",
       "      <td>0</td>\n",
       "      <td>69</td>\n",
       "    </tr>\n",
       "    <tr>\n",
       "      <th>4</th>\n",
       "      <td>140</td>\n",
       "      <td>0</td>\n",
       "      <td>75</td>\n",
       "    </tr>\n",
       "    <tr>\n",
       "      <th>5</th>\n",
       "      <td>200004</td>\n",
       "      <td>0</td>\n",
       "      <td>54</td>\n",
       "    </tr>\n",
       "    <tr>\n",
       "      <th>6</th>\n",
       "      <td>124</td>\n",
       "      <td>0</td>\n",
       "      <td>41</td>\n",
       "    </tr>\n",
       "    <tr>\n",
       "      <th>7</th>\n",
       "      <td>92</td>\n",
       "      <td>0</td>\n",
       "      <td>72</td>\n",
       "    </tr>\n",
       "  </tbody>\n",
       "</table>\n",
       "</div>"
      ],
      "text/plain": [
       "   userId  Churn  count\n",
       "0  200008      0     52\n",
       "1  200023      0     73\n",
       "2  300011      0     41\n",
       "3      39      0     69\n",
       "4     140      0     75\n",
       "5  200004      0     54\n",
       "6     124      0     41\n",
       "7      92      0     72"
      ]
     },
     "execution_count": 31,
     "metadata": {},
     "output_type": "execute_result"
    }
   ],
   "source": [
    "thumbs_down.where(col('count') > 39).toPandas()"
   ]
  },
  {
   "cell_type": "code",
   "execution_count": 32,
   "metadata": {},
   "outputs": [],
   "source": [
    "int_df = pd.merge(thumbs_up.where(col('count') > 190).toPandas(), thumbs_down.where(col('count') > 39).toPandas(), how ='inner', on ='userId')\n"
   ]
  },
  {
   "cell_type": "code",
   "execution_count": 33,
   "metadata": {
    "scrolled": true
   },
   "outputs": [
    {
     "name": "stdout",
     "output_type": "stream",
     "text": [
      "   userId  Churn_x  count_x  Churn_y  count_y\n",
      "0  300011        0      437        0       41\n",
      "1      39        0      388        0       69\n",
      "2     140        0      277        0       75\n",
      "3      92        0      292        0       72\n"
     ]
    }
   ],
   "source": [
    "print(int_df)"
   ]
  },
  {
   "cell_type": "markdown",
   "metadata": {},
   "source": [
    "I think we can conclude that anomally high activity of thumbs up or down tend to insinuate nonchurning user"
   ]
  },
  {
   "cell_type": "markdown",
   "metadata": {},
   "source": [
    "# Feature Engineering\n",
    "Once you've familiarized yourself with the data, build out the features you find promising to train your model on. To work with the full dataset, you can follow the following steps.\n",
    "- Write a script to extract the necessary features from the smaller subset of data\n",
    "- Ensure that your script is scalable, using the best practices discussed in Lesson 3\n",
    "- Try your script on the full data set, debugging your script if necessary\n",
    "\n",
    "If you are working in the classroom workspace, you can just extract features based on the small subset of data contained here. Be sure to transfer over this work to the larger dataset when you work on your Spark cluster."
   ]
  },
  {
   "cell_type": "code",
   "execution_count": 34,
   "metadata": {},
   "outputs": [
    {
     "name": "stdout",
     "output_type": "stream",
     "text": [
      "+------+------+\n",
      "|userId|gender|\n",
      "+------+------+\n",
      "|    44|     1|\n",
      "|    46|     1|\n",
      "|    41|     1|\n",
      "+------+------+\n",
      "only showing top 3 rows\n",
      "\n"
     ]
    }
   ],
   "source": [
    "#we will include gender to our feature set for training the model\n",
    "\n",
    "encoded_gender = user_log.select(\"userId\", \"gender\").dropDuplicates().replace([\"M\", \"F\"], [\"0\", \"1\"], \"gender\").select(\"userId\", col(\"gender\").cast(\"int\"))\n",
    "\n",
    "encoded_gender.show(3)"
   ]
  },
  {
   "cell_type": "code",
   "execution_count": 35,
   "metadata": {},
   "outputs": [
    {
     "name": "stdout",
     "output_type": "stream",
     "text": [
      "+------+-----+\n",
      "|userId|level|\n",
      "+------+-----+\n",
      "|100010|    0|\n",
      "|200002|    1|\n",
      "|   125|    0|\n",
      "|   124|    1|\n",
      "|    51|    1|\n",
      "+------+-----+\n",
      "only showing top 5 rows\n",
      "\n"
     ]
    }
   ],
   "source": [
    "#including user's last level\n",
    "\n",
    "encoded_level = user_log.orderBy(col(\"ts\").desc()).select(\"userId\", \"level\").dropDuplicates(['userId']).replace([\"free\", \"paid\"],['0', '1'], 'level').select(\"userId\", col(\"level\").cast(\"int\"))\n",
    "\n",
    "encoded_level.show(5)"
   ]
  },
  {
   "cell_type": "code",
   "execution_count": 36,
   "metadata": {},
   "outputs": [
    {
     "name": "stdout",
     "output_type": "stream",
     "text": [
      "+------+--------------+\n",
      "|userId|sessions_count|\n",
      "+------+--------------+\n",
      "|100010|             7|\n",
      "|200002|             6|\n",
      "|   125|             1|\n",
      "|    51|            10|\n",
      "|   124|            29|\n",
      "+------+--------------+\n",
      "only showing top 5 rows\n",
      "\n"
     ]
    }
   ],
   "source": [
    "#including num session counts\n",
    "count_sessions = user_log.select('userId', 'sessionId').dropDuplicates().groupby(\"userId\").count().withColumnRenamed('count', \"sessions_count\") \n",
    "\n",
    "count_sessions.show(5)"
   ]
  },
  {
   "cell_type": "code",
   "execution_count": 37,
   "metadata": {},
   "outputs": [
    {
     "name": "stdout",
     "output_type": "stream",
     "text": [
      "+------+-------------+\n",
      "|userId|           ts|\n",
      "+------+-------------+\n",
      "|100010|1542823951000|\n",
      "|200002|1542324353000|\n",
      "|   125|1539318906000|\n",
      "|   124|1543520717000|\n",
      "|     7|1542955610000|\n",
      "+------+-------------+\n",
      "only showing top 5 rows\n",
      "\n"
     ]
    }
   ],
   "source": [
    "#including latest activity\n",
    "last_activity_activity_df = user_log.orderBy(col(\"ts\").desc()).where(col('page')=='NextSong').dropDuplicates(['userId']).select('userId','ts')\n",
    "last_activity_activity_df.show(5)"
   ]
  },
  {
   "cell_type": "code",
   "execution_count": 38,
   "metadata": {},
   "outputs": [
    {
     "name": "stdout",
     "output_type": "stream",
     "text": [
      "+------+--------------------+\n",
      "|userId|total_listening_time|\n",
      "+------+--------------------+\n",
      "|100010|   66940.89735000003|\n",
      "|200002|   94008.87593999993|\n",
      "|   125|  2089.1131000000005|\n",
      "|    51|   523275.8428000004|\n",
      "|   124|  1012312.0927899999|\n",
      "+------+--------------------+\n",
      "only showing top 5 rows\n",
      "\n"
     ]
    }
   ],
   "source": [
    "#including total time listened\n",
    "total_length = user_log.select('userId', 'length').groupby('userId').sum().withColumnRenamed(\"sum(length)\", 'total_listening_time') \n",
    "\n",
    "total_length.show(5)"
   ]
  },
  {
   "cell_type": "code",
   "execution_count": 39,
   "metadata": {
    "scrolled": true
   },
   "outputs": [
    {
     "name": "stdout",
     "output_type": "stream",
     "text": [
      "+------+-----+\n",
      "|userId|churn|\n",
      "+------+-----+\n",
      "|    19|    0|\n",
      "|100005|    1|\n",
      "|200007|    0|\n",
      "+------+-----+\n",
      "only showing top 3 rows\n",
      "\n"
     ]
    }
   ],
   "source": [
    "#including churn to be placed in the transformed event for training\n",
    "churn = user_log.select('userId', col('churn')).dropDuplicates()\n",
    "\n",
    "churn.show(3)"
   ]
  },
  {
   "cell_type": "code",
   "execution_count": 40,
   "metadata": {},
   "outputs": [
    {
     "name": "stdout",
     "output_type": "stream",
     "text": [
      "+------+---------------+\n",
      "|userId|total_thumb_ups|\n",
      "+------+---------------+\n",
      "|100010|             17|\n",
      "|200002|             21|\n",
      "|    51|            100|\n",
      "|   124|            171|\n",
      "|     7|              7|\n",
      "+------+---------------+\n",
      "only showing top 5 rows\n",
      "\n",
      "+------+-----------------+\n",
      "|userId|total_thumb_downs|\n",
      "+------+-----------------+\n",
      "|100010|                5|\n",
      "|200002|                6|\n",
      "|    51|               21|\n",
      "|   124|               41|\n",
      "|     7|                1|\n",
      "+------+-----------------+\n",
      "only showing top 5 rows\n",
      "\n"
     ]
    }
   ],
   "source": [
    "#including thumbs up and thumbs down\n",
    "thumbs_up_df =  user_log.where(col('page')=='Thumbs Up').groupby('userId').count().withColumnRenamed(\"count\", 'total_thumb_ups') \n",
    "thumbs_up_df.show(5)\n",
    "\n",
    "thumbs_down_df =  user_log.where(col('page')=='Thumbs Down').groupby('userId').count().withColumnRenamed(\"count\", 'total_thumb_downs') \n",
    "thumbs_down_df.show(5)"
   ]
  },
  {
   "cell_type": "code",
   "execution_count": 41,
   "metadata": {},
   "outputs": [
    {
     "name": "stdout",
     "output_type": "stream",
     "text": [
      "221\n",
      "221\n",
      "+------+---------------+-----------------+\n",
      "|userId|total_thumb_ups|total_thumb_downs|\n",
      "+------+---------------+-----------------+\n",
      "|100010|             17|                5|\n",
      "|200002|             21|                6|\n",
      "|   124|            171|               41|\n",
      "|    51|            100|               21|\n",
      "|     7|              7|                1|\n",
      "+------+---------------+-----------------+\n",
      "only showing top 5 rows\n",
      "\n"
     ]
    }
   ],
   "source": [
    "thumbs_df = thumbs_up_df.join(thumbs_down_df,\"userId\",\"outer\")\n",
    "print(thumbs_df.count())\n",
    "print(thumbs_df.dropDuplicates(['userId']).count())\n",
    "thumbs_df.show(5)"
   ]
  },
  {
   "cell_type": "code",
   "execution_count": 42,
   "metadata": {},
   "outputs": [],
   "source": [
    "dataset_transformed = encoded_gender.join(encoded_level, \"userId\", \"outer\") \\\n",
    "    .join(count_sessions, \"userId\", \"outer\") \\\n",
    "    .join(last_activity_activity_df, \"userId\", \"outer\") \\\n",
    "    .join(total_length, \"userId\", \"outer\") \\\n",
    "    .join(churn, \"userId\", \"outer\") \\\n",
    "    .join(thumbs_df, \"userId\", \"outer\") \\\n",
    "    .drop('userId') \\\n",
    "    .fillna(0)"
   ]
  },
  {
   "cell_type": "code",
   "execution_count": 43,
   "metadata": {
    "scrolled": false
   },
   "outputs": [
    {
     "name": "stdout",
     "output_type": "stream",
     "text": [
      "225\n",
      "+------+-----+--------------+-------------+--------------------+-----+---------------+-----------------+\n",
      "|gender|level|sessions_count|           ts|total_listening_time|churn|total_thumb_ups|total_thumb_downs|\n",
      "+------+-----+--------------+-------------+--------------------+-----+---------------+-----------------+\n",
      "|     1|    0|             7|1542823951000|   66940.89735000003|    0|             17|                5|\n",
      "|     0|    1|             6|1542324353000|   94008.87593999993|    0|             21|                6|\n",
      "|     0|    0|             1|1539318906000|  2089.1131000000005|    1|              0|                0|\n",
      "|     1|    1|            29|1543520717000|  1012312.0927899999|    0|            171|               41|\n",
      "|     0|    1|            10|1539761726000|   523275.8428000004|    1|            100|               21|\n",
      "+------+-----+--------------+-------------+--------------------+-----+---------------+-----------------+\n",
      "only showing top 5 rows\n",
      "\n"
     ]
    }
   ],
   "source": [
    "print(dataset_transformed.count())\n",
    "dataset_transformed.show(5)"
   ]
  },
  {
   "cell_type": "code",
   "execution_count": 44,
   "metadata": {},
   "outputs": [
    {
     "data": {
      "text/plain": [
       "225"
      ]
     },
     "execution_count": 44,
     "metadata": {},
     "output_type": "execute_result"
    }
   ],
   "source": [
    "encoded_level.count()"
   ]
  },
  {
   "cell_type": "markdown",
   "metadata": {},
   "source": [
    "# Modeling\n",
    "Splitting the dataset into train, test, and validation sets. Then, testing out several of the machine learning methods available. Here, I choose logistic regression, random forest classifier, and decision tree classifier. I will evaluate the models, and tune the parameters. Since the churned users are a fairly small subset, I am using F1 score as the metric to optimize."
   ]
  },
  {
   "cell_type": "code",
   "execution_count": 45,
   "metadata": {},
   "outputs": [],
   "source": [
    "#will first vectorize and scale numberic vars\n",
    "numeric_vars = ['sessions_count','ts','total_listening_time',\n",
    "                'total_thumb_ups','total_thumb_downs']\n",
    "numeric_assembler = VectorAssembler(inputCols = numeric_vars,\n",
    "                                    outputCol = \"numericvectorized\")\n",
    "scaler = StandardScaler(inputCol = \"numericvectorized\", outputCol = \"numericscaled\",\n",
    "                        withStd = True, withMean = True)\n",
    "cat_binary_columns = ['gender','level']\n",
    "total_assembler = VectorAssembler(inputCols = cat_binary_columns+[\"numericscaled\"],\n",
    "                                  outputCol =\"ml_feats\")"
   ]
  },
  {
   "cell_type": "code",
   "execution_count": 46,
   "metadata": {},
   "outputs": [],
   "source": [
    "#building the pipeline that we will use on our dataset\n",
    "data_pipeline = Pipeline(stages=[numeric_assembler, scaler, total_assembler])\n",
    "\n",
    "#applying to the pipeline to our dataset\n",
    "modeling_df = data_pipeline.fit(dataset_transformed).transform(dataset_transformed)"
   ]
  },
  {
   "cell_type": "code",
   "execution_count": 47,
   "metadata": {},
   "outputs": [
    {
     "data": {
      "text/html": [
       "<div>\n",
       "<style scoped>\n",
       "    .dataframe tbody tr th:only-of-type {\n",
       "        vertical-align: middle;\n",
       "    }\n",
       "\n",
       "    .dataframe tbody tr th {\n",
       "        vertical-align: top;\n",
       "    }\n",
       "\n",
       "    .dataframe thead th {\n",
       "        text-align: right;\n",
       "    }\n",
       "</style>\n",
       "<table border=\"1\" class=\"dataframe\">\n",
       "  <thead>\n",
       "    <tr style=\"text-align: right;\">\n",
       "      <th></th>\n",
       "      <th>gender</th>\n",
       "      <th>level</th>\n",
       "      <th>sessions_count</th>\n",
       "      <th>ts</th>\n",
       "      <th>total_listening_time</th>\n",
       "      <th>churn</th>\n",
       "      <th>total_thumb_ups</th>\n",
       "      <th>total_thumb_downs</th>\n",
       "      <th>numericvectorized</th>\n",
       "      <th>numericscaled</th>\n",
       "      <th>ml_feats</th>\n",
       "    </tr>\n",
       "  </thead>\n",
       "  <tbody>\n",
       "    <tr>\n",
       "      <th>0</th>\n",
       "      <td>1</td>\n",
       "      <td>0</td>\n",
       "      <td>7</td>\n",
       "      <td>1542823951000</td>\n",
       "      <td>6.694090e+04</td>\n",
       "      <td>0</td>\n",
       "      <td>17</td>\n",
       "      <td>5</td>\n",
       "      <td>[7.0, 1.542823951e+12, 66940.89735, 17.0, 5.0]</td>\n",
       "      <td>[-0.485806758374, 0.228805277708, -0.674000897...</td>\n",
       "      <td>[1.0, 0.0, -0.485806758374, 0.228805277708, -0...</td>\n",
       "    </tr>\n",
       "    <tr>\n",
       "      <th>1</th>\n",
       "      <td>0</td>\n",
       "      <td>1</td>\n",
       "      <td>6</td>\n",
       "      <td>1542324353000</td>\n",
       "      <td>9.400888e+04</td>\n",
       "      <td>0</td>\n",
       "      <td>21</td>\n",
       "      <td>6</td>\n",
       "      <td>[6.0, 1.542324353e+12, 94008.87594, 21.0, 6.0]</td>\n",
       "      <td>[-0.554080662581, -0.118740208464, -0.57571356...</td>\n",
       "      <td>[0.0, 1.0, -0.554080662581, -0.118740208464, -...</td>\n",
       "    </tr>\n",
       "    <tr>\n",
       "      <th>2</th>\n",
       "      <td>0</td>\n",
       "      <td>0</td>\n",
       "      <td>1</td>\n",
       "      <td>1539318906000</td>\n",
       "      <td>2.089113e+03</td>\n",
       "      <td>1</td>\n",
       "      <td>0</td>\n",
       "      <td>0</td>\n",
       "      <td>[1.0, 1.539318906e+12, 2089.1131, 0.0, 0.0]</td>\n",
       "      <td>[-0.895450183612, -2.20948024101, -0.909486122...</td>\n",
       "      <td>[0.0, 0.0, -0.895450183612, -2.20948024101, -0...</td>\n",
       "    </tr>\n",
       "    <tr>\n",
       "      <th>3</th>\n",
       "      <td>1</td>\n",
       "      <td>1</td>\n",
       "      <td>29</td>\n",
       "      <td>1543520717000</td>\n",
       "      <td>1.012312e+06</td>\n",
       "      <td>0</td>\n",
       "      <td>171</td>\n",
       "      <td>41</td>\n",
       "      <td>[29.0, 1.543520717e+12, 1012312.09279, 171.0, ...</td>\n",
       "      <td>[1.01621913416, 0.713510737335, 2.75876431726,...</td>\n",
       "      <td>[1.0, 1.0, 1.01621913416, 0.713510737335, 2.75...</td>\n",
       "    </tr>\n",
       "    <tr>\n",
       "      <th>4</th>\n",
       "      <td>0</td>\n",
       "      <td>1</td>\n",
       "      <td>10</td>\n",
       "      <td>1539761726000</td>\n",
       "      <td>5.232758e+05</td>\n",
       "      <td>1</td>\n",
       "      <td>100</td>\n",
       "      <td>21</td>\n",
       "      <td>[10.0, 1.539761726e+12, 523275.8428, 100.0, 21.0]</td>\n",
       "      <td>[-0.280985045756, -1.90143238616, 0.9830103746...</td>\n",
       "      <td>[0.0, 1.0, -0.280985045756, -1.90143238616, 0....</td>\n",
       "    </tr>\n",
       "  </tbody>\n",
       "</table>\n",
       "</div>"
      ],
      "text/plain": [
       "   gender  level  sessions_count             ts  total_listening_time  churn  \\\n",
       "0       1      0               7  1542823951000          6.694090e+04      0   \n",
       "1       0      1               6  1542324353000          9.400888e+04      0   \n",
       "2       0      0               1  1539318906000          2.089113e+03      1   \n",
       "3       1      1              29  1543520717000          1.012312e+06      0   \n",
       "4       0      1              10  1539761726000          5.232758e+05      1   \n",
       "\n",
       "   total_thumb_ups  total_thumb_downs  \\\n",
       "0               17                  5   \n",
       "1               21                  6   \n",
       "2                0                  0   \n",
       "3              171                 41   \n",
       "4              100                 21   \n",
       "\n",
       "                                   numericvectorized  \\\n",
       "0     [7.0, 1.542823951e+12, 66940.89735, 17.0, 5.0]   \n",
       "1     [6.0, 1.542324353e+12, 94008.87594, 21.0, 6.0]   \n",
       "2        [1.0, 1.539318906e+12, 2089.1131, 0.0, 0.0]   \n",
       "3  [29.0, 1.543520717e+12, 1012312.09279, 171.0, ...   \n",
       "4  [10.0, 1.539761726e+12, 523275.8428, 100.0, 21.0]   \n",
       "\n",
       "                                       numericscaled  \\\n",
       "0  [-0.485806758374, 0.228805277708, -0.674000897...   \n",
       "1  [-0.554080662581, -0.118740208464, -0.57571356...   \n",
       "2  [-0.895450183612, -2.20948024101, -0.909486122...   \n",
       "3  [1.01621913416, 0.713510737335, 2.75876431726,...   \n",
       "4  [-0.280985045756, -1.90143238616, 0.9830103746...   \n",
       "\n",
       "                                            ml_feats  \n",
       "0  [1.0, 0.0, -0.485806758374, 0.228805277708, -0...  \n",
       "1  [0.0, 1.0, -0.554080662581, -0.118740208464, -...  \n",
       "2  [0.0, 0.0, -0.895450183612, -2.20948024101, -0...  \n",
       "3  [1.0, 1.0, 1.01621913416, 0.713510737335, 2.75...  \n",
       "4  [0.0, 1.0, -0.280985045756, -1.90143238616, 0....  "
      ]
     },
     "execution_count": 47,
     "metadata": {},
     "output_type": "execute_result"
    }
   ],
   "source": [
    "modeling_df.toPandas().head(5)"
   ]
  },
  {
   "cell_type": "code",
   "execution_count": 48,
   "metadata": {},
   "outputs": [],
   "source": [
    "\n",
    "# splitting data into train, validation and test sets\n",
    "train, validation_test = modeling_df.randomSplit([0.7, 0.3], seed = 42)\n",
    "validation, test = validation_test.randomSplit([0.5, 0.5], seed = 42)"
   ]
  },
  {
   "cell_type": "markdown",
   "metadata": {},
   "source": [
    "here, we will test three models: \n",
    "- logistic regression\n",
    "- random forest classifier\n",
    "- decision tree classifier\n"
   ]
  },
  {
   "cell_type": "code",
   "execution_count": 50,
   "metadata": {},
   "outputs": [],
   "source": [
    "#defining the evaluator of the models\n",
    "class_eval = MulticlassClassificationEvaluator(labelCol='churn')"
   ]
  },
  {
   "cell_type": "code",
   "execution_count": 51,
   "metadata": {
    "scrolled": false
   },
   "outputs": [
    {
     "name": "stdout",
     "output_type": "stream",
     "text": [
      "The f1 score for logistic regression is : 0.6476190476190476\n"
     ]
    }
   ],
   "source": [
    "# validation score for logistic regression model\n",
    "lr = LogisticRegression(featuresCol='ml_feats', labelCol='churn')\n",
    "lr_model = lr.fit(train)\n",
    "pred = lr_model.transform(validation)\n",
    "f1_score = class_eval.evaluate(pred, {class_eval.metricName:'f1'})\n",
    "print('The f1 score for logistic regression is : {}'.format(f1_score))"
   ]
  },
  {
   "cell_type": "code",
   "execution_count": 52,
   "metadata": {},
   "outputs": [
    {
     "name": "stdout",
     "output_type": "stream",
     "text": [
      "The f1 score for random forest classifier is : 0.7447552447552448\n"
     ]
    }
   ],
   "source": [
    "# validation score for random forest model\n",
    "rf = RandomForestClassifier(featuresCol='ml_feats', labelCol='churn')\n",
    "rf_model = rf.fit(train)\n",
    "pred = rf_model.transform(validation)\n",
    "f1_score = class_eval.evaluate(pred, {class_eval.metricName:'f1'})\n",
    "print('The f1 score for random forest classifier is : {}'.format(f1_score))"
   ]
  },
  {
   "cell_type": "code",
   "execution_count": 53,
   "metadata": {},
   "outputs": [
    {
     "name": "stdout",
     "output_type": "stream",
     "text": [
      "The f1 score for decision tree classifier is : 0.6476190476190476\n"
     ]
    }
   ],
   "source": [
    "# validation score for decision tree model\n",
    "\n",
    "dt = DecisionTreeClassifier(featuresCol='ml_feats', labelCol='churn')\n",
    "dt_model = dt.fit(train)\n",
    "pred = dt_model.transform(validation)\n",
    "f1_score = class_eval.evaluate(pred, {class_eval.metricName:'f1'})\n",
    "print('The f1 score for decision tree classifier is : {}'.format(f1_score))\n"
   ]
  },
  {
   "cell_type": "markdown",
   "metadata": {},
   "source": [
    "**because this is relatevily an inbalanced dataset (the problem we are solving is that a small percentage of users churn), F1 is more feasible as a metric than others**"
   ]
  },
  {
   "cell_type": "markdown",
   "metadata": {},
   "source": [
    "### model hyper param tuning"
   ]
  },
  {
   "cell_type": "code",
   "execution_count": 55,
   "metadata": {},
   "outputs": [],
   "source": [
    "#tuning params for the rf model\n",
    "params = ParamGridBuilder().addGrid(rf.maxDepth, [4, 7, 10, 13]).build() #default is 5\n",
    "\n",
    "#implementing cross validator search on the params for the rf model\n",
    "cvsearcher = CrossValidator(estimator = rf,\n",
    "                          estimatorParamMaps = params,\n",
    "                          evaluator = MulticlassClassificationEvaluator(labelCol='churn'),\n",
    "                          numFolds = 4)\n",
    "tuned_rf = cvsearcher.fit(train)"
   ]
  },
  {
   "cell_type": "code",
   "execution_count": 56,
   "metadata": {},
   "outputs": [
    {
     "name": "stdout",
     "output_type": "stream",
     "text": [
      "the f1 score of the validation set evaluation of tuned model is \n",
      "0.6476190476190476\n"
     ]
    }
   ],
   "source": [
    "# prediction on validation set\n",
    "pred = tuned_rf.transform(validation)\n",
    "f1_score = class_eval.evaluate(pred, {class_eval.metricName:'f1'})\n",
    "print('the f1 score of the validation set evaluation of tuned model is ')\n",
    "print(f1_score)\n"
   ]
  },
  {
   "cell_type": "code",
   "execution_count": 57,
   "metadata": {},
   "outputs": [
    {
     "name": "stdout",
     "output_type": "stream",
     "text": [
      "the f1 score of the test set evaluation of tuned model is\n",
      "0.8695934959349595\n"
     ]
    }
   ],
   "source": [
    "# predicting on test set\n",
    "pred = tuned_rf.transform(test)\n",
    "f1_score = class_eval.evaluate(pred, {class_eval.metricName:'f1'})\n",
    "print('the f1 score of the test set evaluation of tuned model is')\n",
    "print(f1_score)\n"
   ]
  },
  {
   "cell_type": "markdown",
   "metadata": {},
   "source": [
    "**finally, we can see that the model is performing lower than our baseline model on the validation set, tho, we got a 0.869 score on the test set which might not be very bad**"
   ]
  },
  {
   "cell_type": "code",
   "execution_count": null,
   "metadata": {},
   "outputs": [],
   "source": []
  }
 ],
 "metadata": {
  "kernelspec": {
   "display_name": "Python 3",
   "language": "python",
   "name": "python3"
  },
  "language_info": {
   "codemirror_mode": {
    "name": "ipython",
    "version": 3
   },
   "file_extension": ".py",
   "mimetype": "text/x-python",
   "name": "python",
   "nbconvert_exporter": "python",
   "pygments_lexer": "ipython3",
   "version": "3.6.3"
  }
 },
 "nbformat": 4,
 "nbformat_minor": 2
}
